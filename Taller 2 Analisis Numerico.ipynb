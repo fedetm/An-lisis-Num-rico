{
 "cells": [
  {
   "cell_type": "markdown",
   "metadata": {},
   "source": [
    "#Algoritmo de Horner\n",
    "##Presentado por: David Molano y Federico Torres\n",
    "\n",
    "####Miércoles 1 de Agosto de 2018\n",
    "\n",
    "#####1 Introducción\n",
    "La operación de evaluar polinomios es una de las mas básicas que un ingeniero utiliza. Consiste en dado un determinado ${X}$ evaluar el polinomio ${p(X)=C_{n}X^{n}+C_{n-1}X^{n-1}+...+C_{1}X+C_{0}}$. El método usual para evaluar este polinomio seria evaluar cada producto del polinomio y luego sumar cada uno de los resultados. Esta operación a nivel computacional puede llegar a ser bastante pesada, el algoritmo de Horner propone una solución con menor costo computacional.\n",
    "\n",
    "#####2 Algoritmo de Horner\n",
    "El algoritmo de Horner permite evaluar polinomios de la forma descrita anteriormente como si se tratase de un monomio. Es decir, se reescribe el polinomio ${p(X)=C_{n}X^{n}+C_{n-1}X^{n-1}+...+C_{1}X+C_{0}}$ de la forma ${{(...((C_{m}C+C_{n-1})X+C_{n-2}X....)X+C_{0}}}$\n",
    "######2.1 Implementación en R\n",
    "Se muestra la implementación del algoritmo en el lenguaje de programación R.\n"
   ]
  },
  {
   "cell_type": "code",
   "execution_count": 6,
   "metadata": {},
   "outputs": [
    {
     "name": "stdout",
     "output_type": "stream",
     "text": [
      "[1] 62750\n",
      "[1] 6\n",
      "[1] 6\n"
     ]
    }
   ],
   "source": [
    "#Metodo de Horner\n",
    "x <- 7 #valor con el que se quiere evaluar el polinomio\n",
    "coeficientes <- c(4,-3,7,6,3,9) #vector de coeficientes del polinimio\n",
    "resultado <- 0 # variable que almacenara el resultado\n",
    "sumas <- 0 #contador de sumas hechas\n",
    "multiplicaciones <- 0 #contador de multiplicaciones hechas\n",
    "for (i in 1: length(coeficientes)){# para cada coeficiente\n",
    "  resultado <- resultado * x \n",
    "  multiplicaciones <- multiplicaciones + 1\n",
    "  resultado <- resultado + coeficientes[i] # se realiza la operacion del metodo de horner\n",
    "  sumas <- sumas + 1\n",
    "\n",
    "}\n",
    "print(resultado)#vemos el resultado obtenido\n",
    "print(sumas)\n",
    "print(multiplicaciones)"
   ]
  },
  {
   "cell_type": "markdown",
   "metadata": {},
   "source": [
    "En esta implementación se muestra el proceso para el polinomio ${p(X)=4X^{5}-3X^{4}+7X^{3}+6X^{2}+3X+9}$ evaluado en ${X=7}$.\n",
    "Como se observa, se realizan en total ${12}$ operaciones mientras que por el método de evaluación normal se hubiesen necesitado ${26}$  operaciones. Así se logra una optimización de un poco menos de la mitad en cantidad de operaciones necesarias para evaluar el polinomio.\n"
   ]
  }
 ],
 "metadata": {
  "kernelspec": {
   "display_name": "R",
   "language": "R",
   "name": "ir"
  },
  "language_info": {
   "codemirror_mode": "r",
   "file_extension": ".r",
   "mimetype": "text/x-r-source",
   "name": "R",
   "pygments_lexer": "r",
   "version": "3.4.3"
  }
 },
 "nbformat": 4,
 "nbformat_minor": 2
}
